{
  "nbformat": 4,
  "nbformat_minor": 0,
  "metadata": {
    "colab": {
      "provenance": []
    },
    "kernelspec": {
      "name": "ir",
      "display_name": "R"
    },
    "language_info": {
      "name": "R"
    }
  },
  "cells": [
    {
      "cell_type": "markdown",
      "source": [
        "**Anjali Parwani D11AD 45 EXP1**"
      ],
      "metadata": {
        "id": "eP2V5rYBf5lt"
      }
    },
    {
      "cell_type": "markdown",
      "source": [
        "**Aim:** Getting introduced to data analytics libraries in Python and R.\n",
        "\n",
        "**Lab Objectives:** To effectively use libraries for data analytics.\n",
        "\n",
        "**Lab Outcomes:** Explore various data analytics Libraries in R and Python."
      ],
      "metadata": {
        "id": "jvmoj58Qf6qE"
      }
    },
    {
      "cell_type": "markdown",
      "source": [
        "**Tasks to be Performed:**\n",
        "\n",
        "Explore Top-5 Data Analytics Libraries in Python\n",
        "\n",
        "Explore Top-5 Data Analytics Libraries in R\n",
        "\n",
        "Install and performed simple experiments on 2 Libraries each for Python and R"
      ],
      "metadata": {
        "id": "MP7g-d8If3YX"
      }
    },
    {
      "cell_type": "markdown",
      "source": [
        "**Theory:** **Top 5 Data Analytics Libraries in Python**\n",
        "\n",
        "**1)Numpy**\n",
        "\n",
        "NumPy is the fundamental package for scientific computing in Python.\n",
        "It is a Python library that provides a multidimensional array object, various derived objects (such as masked arrays and matrices), and an assortment of routines for fast operations on arrays, including mathematical, logical, shape manipulation, sorting, selecting, I/O, discrete Fourier transforms, basic linear algebra, basic statistical operations, random simulation and much more.\n",
        "A powerful N-dimensional array object\n",
        "Sophisticated (broadcasting) functions\n",
        "Tools for integrating C/C++ and Fortran code\n",
        "Useful linear algebra, Fourier transform, and random number capabilities\n",
        "\n",
        "**2)Pandas**\n",
        "\n",
        "Pandas is a Python package providing fast, flexible, and expressive data structures designed to make working with “relational” or “labeled” data both easy and intuitive\n",
        "Fast and efficient DataFrame object with default and customized indexing.\n",
        "Tools for loading data into in-memory data objects from different file formats.\n",
        "Data alignment and integrated handling of missing data.\n",
        "High performance merging and joining of data.\n",
        "\n",
        "**3)Scikit-Learn**\n",
        "\n",
        "Scikit-learn is an open source machine learning library that supports supervised and unsupervised learning. It also provides various tools for model fitting, data preprocessing, model selection, model evaluation, and many other utilities.\n",
        "It provides a selection of efficient tools for machine learning and statistical modeling including classification, regression, clustering and dimensionality reduction via a consistence interface in Python\n",
        "Built on NumPy, SciPy, and matplotlib\n",
        "\n",
        "**4)Keras**\n",
        "\n",
        "Keras is a popular library that is used extensively for deep learning and neural network modules.\n",
        "Keras runs on top of open source machine libraries like TensorFlow, Theano or Cognitive Toolkit (CNTK)\n",
        "Keras supports both the TensorFlow and Theano backends, so it is a good option if you don't want to dive into the details of TensorFlow.\n",
        "Consistent, simple and extensible API.\n",
        "Minimal structure - easy to achieve the result without any frills.\n",
        "\n",
        "**5)BeautifulSoup**\n",
        "\n",
        "Beautiful Soup is a Python package for parsing HTML and XML documents.\n",
        "It creates a parse tree for parsed pages that can be used to extract data from HTML, which is useful for web scraping.\n",
        "HTML/XML Parsing: Beautiful Soup allows easy extraction of data from HTML and XML documents by providing methods to navigate the parse tree.\n",
        "Tag and Attribute Searching: Beautiful Soup makes it easy to search for specific HTML or XML tags and their attributes, simplifying the process of locating and extracting relevant information.\n",
        "Tree Navigation: Beautiful Soup creates a parse tree from the input HTML or XML, and it provides methods for navigating this tree structure to access specific elements.\n",
        "Content Extraction: It allows the extraction of the textual content, attributes, and other data associated with HTML or XML elements.\n",
        "\n",
        "\n",
        "**Top 5 Data Analytics Libraries in R**\n",
        "\n",
        "**1)dplyr**\n",
        "\n",
        "The dplyr is a powerful R-package to manipulate, clean and summarize unstructured data.\n",
        "It makes data exploration and data manipulation easy and fast in R. The package \"dplyr\" comprises many functions that perform mostly used data manipulation operations such as applying filter, selecting specific columns, sorting data, adding or deleting columns and aggregating data.\n",
        "It provides simple “verbs”, functions that correspond to the most common data manipulation tasks, to help you translate your thoughts into code.\n",
        "It uses efficient backends, so you spend less time waiting for the computer.\n",
        "\n",
        "**2)ggplot2**\n",
        "\n",
        "ggplot2 implements the grammar of graphics, a coherent system for describing and building graphs.\n",
        "This approach gives us a coherent way to produce visualizations by expressing relationships between the attributes of data and their graphical representation\n",
        "Thus, one can create plots faster by learning one system and applying it in many places.\n",
        "\n",
        "**3)lubridate**\n",
        "\n",
        "R by default offers limited capability to deal with date and time.\n",
        "Lubridate is an R package that makes it easier to work with dates and times\n",
        "It offers a wide variety of functions that make it easier to work with .dates and time.\n",
        "\n",
        "**4)mlr**\n",
        "\n",
        "The mlr package provides a generic, object-oriented, and extensible framework for classification, regression, survival analysis and clustering for the R language.\n",
        "It provides a unified interface to more than 160 basic learners and includes meta-algorithms and model selection techniques to improve and extend the functionality of basic learners with, e.g., hyperparameter tuning, feature selection, and ensemble construction.\n",
        "Parallel high-performance computing is also natively supported by mlr.\n",
        "\n",
        "**5)shiny**\n",
        "\n",
        "Shiny is an R package that makes it easy to build interactive web applications (apps) straight from R.\n",
        "Shiny is a framework for creating web applications using R code.\n",
        "It is designed primarily with data scientists in mind and it can create pretty complicated Shiny apps without requiring knowledge of HTML, CSS, or JavaScript\n",
        "Provides a carefully curated set of user interface (UI for short) functions that generate the HTML, CSS, and JavaScript needed for common tasks\n",
        "It follows a style of programming called reactive programming which automatically tracks the dependencies of pieces of code."
      ],
      "metadata": {
        "id": "XhDz_-r-hXXm"
      }
    },
    {
      "cell_type": "code",
      "source": [
        "!pip install numpy pandas"
      ],
      "metadata": {
        "colab": {
          "base_uri": "https://localhost:8080/"
        },
        "id": "zLnqCMHtinjN",
        "outputId": "6d49692a-f3c3-4376-8fb8-8f3b1476d5e4"
      },
      "execution_count": null,
      "outputs": [
        {
          "output_type": "stream",
          "name": "stdout",
          "text": [
            "Requirement already satisfied: numpy in /usr/local/lib/python3.10/dist-packages (1.23.5)\n",
            "Requirement already satisfied: pandas in /usr/local/lib/python3.10/dist-packages (1.5.3)\n",
            "Requirement already satisfied: python-dateutil>=2.8.1 in /usr/local/lib/python3.10/dist-packages (from pandas) (2.8.2)\n",
            "Requirement already satisfied: pytz>=2020.1 in /usr/local/lib/python3.10/dist-packages (from pandas) (2023.3.post1)\n",
            "Requirement already satisfied: six>=1.5 in /usr/local/lib/python3.10/dist-packages (from python-dateutil>=2.8.1->pandas) (1.16.0)\n"
          ]
        }
      ]
    },
    {
      "cell_type": "code",
      "source": [
        "import numpy as np\n",
        "array1D = np.array([2,3,4,5])\n",
        "print(f\"1D Array : {array1D}, Shape : {array1D.shape}\")\n",
        "\n",
        "array2D = np.array([[1,2,3],[4,5,6]])\n",
        "print(f\"2D Array : \\n{array2D}, Shape : {array2D.shape}\")\n",
        "\n",
        "array3D = np.array([[1,2,3],[4,5,6],[7,8,9]])\n",
        "print(f\"3D Array : \\n{array3D}, Shape : {array3D.shape}\")\n",
        "\n",
        "#declaring a very large array\n",
        "large_array = np.zeros((5,5), dtype=np.float64)"
      ],
      "metadata": {
        "colab": {
          "base_uri": "https://localhost:8080/"
        },
        "id": "oFSv0XQ7itnm",
        "outputId": "d86e819e-2429-4d01-e6d6-e2b221e5a90c"
      },
      "execution_count": null,
      "outputs": [
        {
          "output_type": "stream",
          "name": "stdout",
          "text": [
            "1D Array : [2 3 4 5], Shape : (4,)\n",
            "2D Array : \n",
            "[[1 2 3]\n",
            " [4 5 6]], Shape : (2, 3)\n",
            "3D Array : \n",
            "[[1 2 3]\n",
            " [4 5 6]\n",
            " [7 8 9]], Shape : (3, 3)\n"
          ]
        }
      ]
    },
    {
      "cell_type": "code",
      "source": [
        "import pandas as pd\n",
        "data = {\n",
        "  \"calories\": [420, None, 390,750,350,None,500,200,450,470],\n",
        "  \"duration\": [50, 40, 45,55,60,75,80,85,90,95]\n",
        "}\n",
        "df = pd.DataFrame(data)\n",
        "missing = np.where(df[\"calories\"].isnull() == True)\n",
        "print(df)\n",
        "print(missing)"
      ],
      "metadata": {
        "colab": {
          "base_uri": "https://localhost:8080/"
        },
        "id": "26fvw6KAitq2",
        "outputId": "bc502352-6db0-4e1a-81c0-d937be702e72"
      },
      "execution_count": null,
      "outputs": [
        {
          "output_type": "stream",
          "name": "stdout",
          "text": [
            "   calories  duration\n",
            "0     420.0        50\n",
            "1       NaN        40\n",
            "2     390.0        45\n",
            "3     750.0        55\n",
            "4     350.0        60\n",
            "5       NaN        75\n",
            "6     500.0        80\n",
            "7     200.0        85\n",
            "8     450.0        90\n",
            "9     470.0        95\n",
            "(array([1, 5]),)\n"
          ]
        }
      ]
    },
    {
      "cell_type": "markdown",
      "source": [
        "R Libraries"
      ],
      "metadata": {
        "id": "DEObtg0ki5o9"
      }
    },
    {
      "cell_type": "code",
      "source": [
        "library(dplyr)\n",
        "library(ggplot2)\n",
        "library(dplyr)\n",
        "df = data.frame(\n",
        "    department = c(\"AIDS\",\"CS\",\"IT\",\"EXTC\"),\n",
        "    year = c(2014,2016,2006,2001)\n",
        ")\n",
        "df.department = arrange(df,year)\n",
        "df.department"
      ],
      "metadata": {
        "colab": {
          "base_uri": "https://localhost:8080/",
          "height": 467
        },
        "id": "bD9lflxFi12W",
        "outputId": "6318c805-900d-4dca-92f4-be261547751e"
      },
      "execution_count": null,
      "outputs": [
        {
          "output_type": "stream",
          "name": "stderr",
          "text": [
            "\n",
            "Attaching package: ‘dplyr’\n",
            "\n",
            "\n",
            "The following objects are masked from ‘package:stats’:\n",
            "\n",
            "    filter, lag\n",
            "\n",
            "\n",
            "The following objects are masked from ‘package:base’:\n",
            "\n",
            "    intersect, setdiff, setequal, union\n",
            "\n",
            "\n"
          ]
        },
        {
          "output_type": "display_data",
          "data": {
            "text/html": [
              "<table class=\"dataframe\">\n",
              "<caption>A data.frame: 4 × 2</caption>\n",
              "<thead>\n",
              "\t<tr><th scope=col>department</th><th scope=col>year</th></tr>\n",
              "\t<tr><th scope=col>&lt;chr&gt;</th><th scope=col>&lt;dbl&gt;</th></tr>\n",
              "</thead>\n",
              "<tbody>\n",
              "\t<tr><td>EXTC</td><td>2001</td></tr>\n",
              "\t<tr><td>IT  </td><td>2006</td></tr>\n",
              "\t<tr><td>AIDS</td><td>2014</td></tr>\n",
              "\t<tr><td>CS  </td><td>2016</td></tr>\n",
              "</tbody>\n",
              "</table>\n"
            ],
            "text/markdown": "\nA data.frame: 4 × 2\n\n| department &lt;chr&gt; | year &lt;dbl&gt; |\n|---|---|\n| EXTC | 2001 |\n| IT   | 2006 |\n| AIDS | 2014 |\n| CS   | 2016 |\n\n",
            "text/latex": "A data.frame: 4 × 2\n\\begin{tabular}{ll}\n department & year\\\\\n <chr> & <dbl>\\\\\n\\hline\n\t EXTC & 2001\\\\\n\t IT   & 2006\\\\\n\t AIDS & 2014\\\\\n\t CS   & 2016\\\\\n\\end{tabular}\n",
            "text/plain": [
              "  department year\n",
              "1 EXTC       2001\n",
              "2 IT         2006\n",
              "3 AIDS       2014\n",
              "4 CS         2016"
            ]
          },
          "metadata": {}
        }
      ]
    },
    {
      "cell_type": "code",
      "source": [
        "df1 = data.frame(\n",
        "    calories = c(420,360,390, 400, 450, 460),\n",
        "    duration = c(50, 40, 45, 47, 42, 52)\n",
        ")\n",
        "ggplot(data = df1, mapping = aes(x= calories, y = duration)) +  geom_point()"
      ],
      "metadata": {
        "colab": {
          "base_uri": "https://localhost:8080/",
          "height": 437
        },
        "id": "iL1kWUPHkkp2",
        "outputId": "c6a0e304-aae7-4134-ac82-bfe6a38fd851"
      },
      "execution_count": null,
      "outputs": [
        {
          "output_type": "display_data",
          "data": {
            "text/plain": [
              "plot without title"
            ],
            "image/png": "[encoded data removed]"
          },
          "metadata": {
            "image/png": {
              "width": 420,
              "height": 420
            }
          }
        }
      ]
    },
    {
      "cell_type": "markdown",
      "source": [
        "**Conclusion:**\n",
        "\n",
        "Identified the Data Analytics Libraries in Python and R\n",
        "\n",
        "Performed simple experiments with these libraries in Python and R"
      ],
      "metadata": {
        "id": "rWMiJ_xMkzWC"
      }
    }
  ]
}